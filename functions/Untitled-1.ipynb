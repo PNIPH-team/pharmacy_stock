{
 "cells": [
  {
   "cell_type": "code",
   "execution_count": null,
   "metadata": {},
   "outputs": [],
   "source": [
    "import json\n",
    "import requests\n",
    "from requests.auth import HTTPBasicAuth\n",
    "# Open the JSON file\n",
    "with open('/Users/salehabbas/Documents/GitHub/pharmacy_stock/data/events.json') as f:\n",
    "    ids = json.load(f)\n",
    "\n",
    "# Define the base URL and payload\n",
    "base_url = 'https://hmis.moh.ps/tr-family-prod/api/events/'\n",
    "headers = {'Content-Type': 'application/json'}\n",
    "dhis_user = 'Saleh'\n",
    "dhis_password = 'Test@123'\n",
    "# Loop through each ID and make a PUT request\n",
    "for id in ids[0]['events']:\n",
    "    print(id['event'])\n",
    "    url = base_url + str(id)\n",
    "    response = requests.put(url, data=json.dumps({\n",
    "    \"event\": id['event'],\n",
    "    \"status\": \"COMPLETED\",\n",
    "    \"program\": id['program']\n",
    "}),\n",
    "                                    headers=headers, auth=HTTPBasicAuth(dhis_user, dhis_password))\n",
    "    if response.status_code == 200:\n",
    "        print(f'Successfully updated user {id}')\n",
    "    else:\n",
    "        print(f'Error updating user {id}: {response.content}')\n"
   ]
  }
 ],
 "metadata": {
  "kernelspec": {
   "display_name": "Python 3",
   "language": "python",
   "name": "python3"
  },
  "language_info": {
   "codemirror_mode": {
    "name": "ipython",
    "version": 3
   },
   "file_extension": ".py",
   "mimetype": "text/x-python",
   "name": "python",
   "nbconvert_exporter": "python",
   "pygments_lexer": "ipython3",
   "version": "3.10.4"
  },
  "orig_nbformat": 4
 },
 "nbformat": 4,
 "nbformat_minor": 2
}
