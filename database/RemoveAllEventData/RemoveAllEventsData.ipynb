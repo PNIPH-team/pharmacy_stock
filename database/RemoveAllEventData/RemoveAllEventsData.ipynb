{
 "cells": [
  {
   "cell_type": "code",
   "execution_count": 10,
   "metadata": {},
   "outputs": [],
   "source": [
    "import json\n",
    "import requests\n",
    "from requests.auth import HTTPBasicAuth\n",
    "# Open the JSON file\n",
    "with open('/Users/salehabbas/Documents/GitHub/pharmacy_stock/data/events.json') as f:\n",
    "    ids = json.load(f)\n",
    "\n",
    "# Define the base URL and payload\n",
    "base_url = 'https://hmis.moh.ps/tr-family-prod/api/events/'\n",
    "headers = {'Content-Type': 'application/json'}\n",
    "dhis_user = 'Saleh'\n",
    "dhis_password = 'Test@123'\n",
    "\n",
    "for id in ids[0]['events']:\n",
    "    delete_request = requests.delete(\n",
    "            base_url+id['event'], auth=HTTPBasicAuth('Saleh', 'Test@123'))\n",
    "    print(delete_request.status_code)\n",
    "\n"
   ]
  }
 ],
 "metadata": {
  "kernelspec": {
   "display_name": "Python 3",
   "language": "python",
   "name": "python3"
  },
  "language_info": {
   "codemirror_mode": {
    "name": "ipython",
    "version": 3
   },
   "file_extension": ".py",
   "mimetype": "text/x-python",
   "name": "python",
   "nbconvert_exporter": "python",
   "pygments_lexer": "ipython3",
   "version": "3.10.4"
  },
  "orig_nbformat": 4
 },
 "nbformat": 4,
 "nbformat_minor": 2
}
